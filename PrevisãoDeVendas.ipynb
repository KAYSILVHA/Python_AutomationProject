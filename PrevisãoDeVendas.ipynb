{
 "cells": [
  {
   "cell_type": "markdown",
   "id": "e88874cb",
   "metadata": {},
   "source": [
    "# Projeto Ciência de dados - Previsão de vendas"
   ]
  },
  {
   "cell_type": "markdown",
   "id": "67439d15",
   "metadata": {},
   "source": [
    "- Passo 1: Entendimento do Desafio\n",
    "- Passo 2: Entendimento da Área/Empresa\n",
    "- Passo 3: Extração/Obtenção de Dados\n",
    "- Passo 4: Ajuste de Dados (Tratamento/Limpeza)\n",
    "- Passo 5: Análise Exploratória\n",
    "- Passo 6: Modelagem + Algoritimos(Aqui entra a IA, se necessário)\n",
    "- Passo 7: Interpretação de Resultados"
   ]
  },
  {
   "cell_type": "markdown",
   "id": "0faf22a4",
   "metadata": {},
   "source": [
    "- RADIO, JORNAL, TV estão em milhares de reais e as VENDAS estão em milhões"
   ]
  },
  {
   "cell_type": "code",
   "execution_count": 6,
   "id": "0c769dba",
   "metadata": {},
   "outputs": [
    {
     "name": "stdout",
     "output_type": "stream",
     "text": [
      "Requirement already satisfied: matplotlib in c:\\users\\kaira\\downloads\\anacondaa\\lib\\site-packages (3.4.3)\n",
      "Requirement already satisfied: cycler>=0.10 in c:\\users\\kaira\\downloads\\anacondaa\\lib\\site-packages (from matplotlib) (0.10.0)\n",
      "Requirement already satisfied: pyparsing>=2.2.1 in c:\\users\\kaira\\downloads\\anacondaa\\lib\\site-packages (from matplotlib) (3.0.4)\n",
      "Requirement already satisfied: pillow>=6.2.0 in c:\\users\\kaira\\downloads\\anacondaa\\lib\\site-packages (from matplotlib) (8.4.0)\n",
      "Requirement already satisfied: python-dateutil>=2.7 in c:\\users\\kaira\\downloads\\anacondaa\\lib\\site-packages (from matplotlib) (2.8.2)\n",
      "Requirement already satisfied: kiwisolver>=1.0.1 in c:\\users\\kaira\\downloads\\anacondaa\\lib\\site-packages (from matplotlib) (1.3.1)\n",
      "Requirement already satisfied: numpy>=1.16 in c:\\users\\kaira\\downloads\\anacondaa\\lib\\site-packages (from matplotlib) (1.20.3)\n",
      "Requirement already satisfied: six in c:\\users\\kaira\\downloads\\anacondaa\\lib\\site-packages (from cycler>=0.10->matplotlib) (1.16.0)\n",
      "Requirement already satisfied: seaborn in c:\\users\\kaira\\downloads\\anacondaa\\lib\\site-packages (0.11.2)\n",
      "Requirement already satisfied: scipy>=1.0 in c:\\users\\kaira\\downloads\\anacondaa\\lib\\site-packages (from seaborn) (1.7.1)\n",
      "Requirement already satisfied: matplotlib>=2.2 in c:\\users\\kaira\\downloads\\anacondaa\\lib\\site-packages (from seaborn) (3.4.3)\n",
      "Requirement already satisfied: pandas>=0.23 in c:\\users\\kaira\\downloads\\anacondaa\\lib\\site-packages (from seaborn) (1.5.2)\n",
      "Requirement already satisfied: numpy>=1.15 in c:\\users\\kaira\\downloads\\anacondaa\\lib\\site-packages (from seaborn) (1.20.3)\n",
      "Requirement already satisfied: pillow>=6.2.0 in c:\\users\\kaira\\downloads\\anacondaa\\lib\\site-packages (from matplotlib>=2.2->seaborn) (8.4.0)\n",
      "Requirement already satisfied: pyparsing>=2.2.1 in c:\\users\\kaira\\downloads\\anacondaa\\lib\\site-packages (from matplotlib>=2.2->seaborn) (3.0.4)\n",
      "Requirement already satisfied: cycler>=0.10 in c:\\users\\kaira\\downloads\\anacondaa\\lib\\site-packages (from matplotlib>=2.2->seaborn) (0.10.0)\n",
      "Requirement already satisfied: kiwisolver>=1.0.1 in c:\\users\\kaira\\downloads\\anacondaa\\lib\\site-packages (from matplotlib>=2.2->seaborn) (1.3.1)\n",
      "Requirement already satisfied: python-dateutil>=2.7 in c:\\users\\kaira\\downloads\\anacondaa\\lib\\site-packages (from matplotlib>=2.2->seaborn) (2.8.2)\n",
      "Requirement already satisfied: six in c:\\users\\kaira\\downloads\\anacondaa\\lib\\site-packages (from cycler>=0.10->matplotlib>=2.2->seaborn) (1.16.0)\n",
      "Requirement already satisfied: pytz>=2020.1 in c:\\users\\kaira\\downloads\\anacondaa\\lib\\site-packages (from pandas>=0.23->seaborn) (2021.3)\n",
      "Requirement already satisfied: scikit-learn in c:\\users\\kaira\\downloads\\anacondaa\\lib\\site-packages (0.24.2)\n",
      "Requirement already satisfied: threadpoolctl>=2.0.0 in c:\\users\\kaira\\downloads\\anacondaa\\lib\\site-packages (from scikit-learn) (2.2.0)\n",
      "Requirement already satisfied: numpy>=1.13.3 in c:\\users\\kaira\\downloads\\anacondaa\\lib\\site-packages (from scikit-learn) (1.20.3)\n",
      "Requirement already satisfied: scipy>=0.19.1 in c:\\users\\kaira\\downloads\\anacondaa\\lib\\site-packages (from scikit-learn) (1.7.1)\n",
      "Requirement already satisfied: joblib>=0.11 in c:\\users\\kaira\\downloads\\anacondaa\\lib\\site-packages (from scikit-learn) (1.1.0)\n"
     ]
    }
   ],
   "source": [
    "!pip install matplotlib\n",
    "!pip install seaborn\n",
    "!pip install scikit-learn"
   ]
  },
  {
   "cell_type": "code",
   "execution_count": 3,
   "id": "141d44e8",
   "metadata": {},
   "outputs": [
    {
     "data": {
      "text/html": [
       "<div>\n",
       "<style scoped>\n",
       "    .dataframe tbody tr th:only-of-type {\n",
       "        vertical-align: middle;\n",
       "    }\n",
       "\n",
       "    .dataframe tbody tr th {\n",
       "        vertical-align: top;\n",
       "    }\n",
       "\n",
       "    .dataframe thead th {\n",
       "        text-align: right;\n",
       "    }\n",
       "</style>\n",
       "<table border=\"1\" class=\"dataframe\">\n",
       "  <thead>\n",
       "    <tr style=\"text-align: right;\">\n",
       "      <th></th>\n",
       "      <th>TV</th>\n",
       "      <th>Radio</th>\n",
       "      <th>Jornal</th>\n",
       "      <th>Vendas</th>\n",
       "    </tr>\n",
       "  </thead>\n",
       "  <tbody>\n",
       "    <tr>\n",
       "      <th>0</th>\n",
       "      <td>230.1</td>\n",
       "      <td>37.8</td>\n",
       "      <td>69.2</td>\n",
       "      <td>22.1</td>\n",
       "    </tr>\n",
       "    <tr>\n",
       "      <th>1</th>\n",
       "      <td>44.5</td>\n",
       "      <td>39.3</td>\n",
       "      <td>45.1</td>\n",
       "      <td>10.4</td>\n",
       "    </tr>\n",
       "    <tr>\n",
       "      <th>2</th>\n",
       "      <td>17.2</td>\n",
       "      <td>45.9</td>\n",
       "      <td>69.3</td>\n",
       "      <td>12.0</td>\n",
       "    </tr>\n",
       "    <tr>\n",
       "      <th>3</th>\n",
       "      <td>151.5</td>\n",
       "      <td>41.3</td>\n",
       "      <td>58.5</td>\n",
       "      <td>16.5</td>\n",
       "    </tr>\n",
       "    <tr>\n",
       "      <th>4</th>\n",
       "      <td>180.8</td>\n",
       "      <td>10.8</td>\n",
       "      <td>58.4</td>\n",
       "      <td>17.9</td>\n",
       "    </tr>\n",
       "    <tr>\n",
       "      <th>...</th>\n",
       "      <td>...</td>\n",
       "      <td>...</td>\n",
       "      <td>...</td>\n",
       "      <td>...</td>\n",
       "    </tr>\n",
       "    <tr>\n",
       "      <th>195</th>\n",
       "      <td>38.2</td>\n",
       "      <td>3.7</td>\n",
       "      <td>13.8</td>\n",
       "      <td>7.6</td>\n",
       "    </tr>\n",
       "    <tr>\n",
       "      <th>196</th>\n",
       "      <td>94.2</td>\n",
       "      <td>4.9</td>\n",
       "      <td>8.1</td>\n",
       "      <td>14.0</td>\n",
       "    </tr>\n",
       "    <tr>\n",
       "      <th>197</th>\n",
       "      <td>177.0</td>\n",
       "      <td>9.3</td>\n",
       "      <td>6.4</td>\n",
       "      <td>14.8</td>\n",
       "    </tr>\n",
       "    <tr>\n",
       "      <th>198</th>\n",
       "      <td>283.6</td>\n",
       "      <td>42.0</td>\n",
       "      <td>66.2</td>\n",
       "      <td>25.5</td>\n",
       "    </tr>\n",
       "    <tr>\n",
       "      <th>199</th>\n",
       "      <td>232.1</td>\n",
       "      <td>8.6</td>\n",
       "      <td>8.7</td>\n",
       "      <td>18.4</td>\n",
       "    </tr>\n",
       "  </tbody>\n",
       "</table>\n",
       "<p>200 rows × 4 columns</p>\n",
       "</div>"
      ],
      "text/plain": [
       "        TV  Radio  Jornal  Vendas\n",
       "0    230.1   37.8    69.2    22.1\n",
       "1     44.5   39.3    45.1    10.4\n",
       "2     17.2   45.9    69.3    12.0\n",
       "3    151.5   41.3    58.5    16.5\n",
       "4    180.8   10.8    58.4    17.9\n",
       "..     ...    ...     ...     ...\n",
       "195   38.2    3.7    13.8     7.6\n",
       "196   94.2    4.9     8.1    14.0\n",
       "197  177.0    9.3     6.4    14.8\n",
       "198  283.6   42.0    66.2    25.5\n",
       "199  232.1    8.6     8.7    18.4\n",
       "\n",
       "[200 rows x 4 columns]"
      ]
     },
     "metadata": {},
     "output_type": "display_data"
    }
   ],
   "source": [
    "#Importar base de dados\n",
    "import pandas as pd\n",
    "\n",
    "tabela = pd.read_csv(r\"C:\\Users\\KAIRA\\Downloads\\advertising.csv\")\n",
    "\n",
    "display(tabela)"
   ]
  },
  {
   "cell_type": "code",
   "execution_count": 4,
   "id": "34f7fa64",
   "metadata": {},
   "outputs": [
    {
     "name": "stdout",
     "output_type": "stream",
     "text": [
      "              TV     Radio    Jornal    Vendas\n",
      "TV      1.000000  0.054809  0.056648  0.901208\n",
      "Radio   0.054809  1.000000  0.354104  0.349631\n",
      "Jornal  0.056648  0.354104  1.000000  0.157960\n",
      "Vendas  0.901208  0.349631  0.157960  1.000000\n"
     ]
    }
   ],
   "source": [
    "# Passo 5: Análise Exploratória\n",
    "    #- calcular a correlação(quão caminhando na mesma direção estão as coisas(proporcionalidade))\n",
    "print(tabela.corr())"
   ]
  },
  {
   "cell_type": "code",
   "execution_count": 12,
   "id": "90f1916e",
   "metadata": {},
   "outputs": [
    {
     "data": {
      "image/png": "[encoded data removed]",
      "text/plain": [
       "<Figure size 432x288 with 2 Axes>"
      ]
     },
     "metadata": {
      "needs_background": "light"
     },
     "output_type": "display_data"
    }
   ],
   "source": [
    "import matplotlib.pyplot as plt\n",
    "import seaborn as sns\n",
    "\n",
    "#criar um grafico\n",
    "sns.heatmap(tabela.corr(),cmap=\"Blues\",annot=True)\n",
    "#exibir o grafico\n",
    "plt.show()"
   ]
  },
  {
   "cell_type": "code",
   "execution_count": 17,
   "id": "d3b8aa0d",
   "metadata": {},
   "outputs": [],
   "source": [
    "#- Passo 6: Modelagem + Algoritimos(Aqui entra a IA, se necessário)\n",
    "    # Separando em dados de treino e dados de teste\n",
    "y = tabela[\"Vendas\"]\n",
    "x = tabela[[\"TV\",\"Jornal\",\"Radio\"]]\n",
    "\n",
    "from sklearn.model_selection import train_test_split\n",
    "\n",
    "x_treino, x_teste, y_treino, y_teste = train_test_split(x, y)"
   ]
  },
  {
   "cell_type": "markdown",
   "id": "71dee06f",
   "metadata": {},
   "source": [
    "Inteligengias:\n",
    "    - Regressão linear\n",
    "    - RandomForest(Árvore de Decisão)"
   ]
  },
  {
   "cell_type": "code",
   "execution_count": 18,
   "id": "5289726d",
   "metadata": {},
   "outputs": [
    {
     "data": {
      "text/plain": [
       "RandomForestRegressor()"
      ]
     },
     "execution_count": 18,
     "metadata": {},
     "output_type": "execute_result"
    }
   ],
   "source": [
    "# importar a inteligencia artificial\n",
    "from sklearn.linear_model import LinearRegression\n",
    "from sklearn.ensemble import RandomForestRegressor\n",
    "\n",
    "# criar a inteligencia\n",
    "modelo_regressaolinear = LinearRegression()\n",
    "modelo_arvoredecisao = RandomForestRegressor()\n",
    "\n",
    "# treinar a inteligencia\n",
    "modelo_regressaolinear.fit(x_treino, y_treino)\n",
    "modelo_arvoredecisao.fit(x_treino, y_treino)"
   ]
  },
  {
   "cell_type": "markdown",
   "id": "510ce01b",
   "metadata": {},
   "source": [
    "Teste da IA e avaliação do melhor modelo"
   ]
  },
  {
   "cell_type": "code",
   "execution_count": 20,
   "id": "92fa89c2",
   "metadata": {},
   "outputs": [
    {
     "name": "stdout",
     "output_type": "stream",
     "text": [
      "0.8825603189581182\n",
      "0.9268141072327524\n"
     ]
    }
   ],
   "source": [
    "previsao_regressaolinear = modelo_regressaolinear.predict(x_teste)\n",
    "previsao_arvoredecisao = modelo_arvoredecisao.predict(x_teste)\n",
    "\n",
    "from sklearn.metrics import r2_score\n",
    "print(r2_score(y_teste, previsao_regressaolinear))\n",
    "print(r2_score(y_teste, previsao_arvoredecisao))"
   ]
  },
  {
   "cell_type": "markdown",
   "id": "c2b5ae40",
   "metadata": {},
   "source": [
    "Visualização gráfica das previsões"
   ]
  },
  {
   "cell_type": "code",
   "execution_count": 24,
   "id": "6d36a177",
   "metadata": {},
   "outputs": [
    {
     "data": {
      "image/png": "[encoded data removed]",
      "text/plain": [
       "<Figure size 432x288 with 1 Axes>"
      ]
     },
     "metadata": {
      "needs_background": "light"
     },
     "output_type": "display_data"
    }
   ],
   "source": [
    "tabela_auxiliar = pd.DataFrame()\n",
    "tabela_auxiliar[\"y_teste\"] = y_teste\n",
    "tabela_auxiliar[\"Previsao RegressaoLinear\"] = previsao_regressaolinear\n",
    "tabela_auxiliar[\"Previsao ArvoreDecisao\"] = previsao_arvoredecisao\n",
    "\n",
    "sns.lineplot(data=tabela_auxiliar)\n",
    "plt.show()"
   ]
  },
  {
   "cell_type": "markdown",
   "id": "b4cfa8bf",
   "metadata": {},
   "source": [
    "Como fazer uma nova previsão?"
   ]
  },
  {
   "cell_type": "code",
   "execution_count": 25,
   "id": "a7dd0916",
   "metadata": {},
   "outputs": [
    {
     "data": {
      "text/html": [
       "<div>\n",
       "<style scoped>\n",
       "    .dataframe tbody tr th:only-of-type {\n",
       "        vertical-align: middle;\n",
       "    }\n",
       "\n",
       "    .dataframe tbody tr th {\n",
       "        vertical-align: top;\n",
       "    }\n",
       "\n",
       "    .dataframe thead th {\n",
       "        text-align: right;\n",
       "    }\n",
       "</style>\n",
       "<table border=\"1\" class=\"dataframe\">\n",
       "  <thead>\n",
       "    <tr style=\"text-align: right;\">\n",
       "      <th></th>\n",
       "      <th>TV</th>\n",
       "      <th>Radio</th>\n",
       "      <th>Jornal</th>\n",
       "    </tr>\n",
       "  </thead>\n",
       "  <tbody>\n",
       "    <tr>\n",
       "      <th>0</th>\n",
       "      <td>23.1</td>\n",
       "      <td>3.8</td>\n",
       "      <td>69.2</td>\n",
       "    </tr>\n",
       "    <tr>\n",
       "      <th>1</th>\n",
       "      <td>44.5</td>\n",
       "      <td>0.0</td>\n",
       "      <td>5.1</td>\n",
       "    </tr>\n",
       "    <tr>\n",
       "      <th>2</th>\n",
       "      <td>170.2</td>\n",
       "      <td>45.9</td>\n",
       "      <td>0.0</td>\n",
       "    </tr>\n",
       "  </tbody>\n",
       "</table>\n",
       "</div>"
      ],
      "text/plain": [
       "      TV  Radio  Jornal\n",
       "0   23.1    3.8    69.2\n",
       "1   44.5    0.0     5.1\n",
       "2  170.2   45.9     0.0"
      ]
     },
     "metadata": {},
     "output_type": "display_data"
    }
   ],
   "source": [
    "nova_tabela =pd.read_csv(r\"C:\\Users\\KAIRA\\Downloads\\novos.csv\")\n",
    "\n",
    "display(nova_tabela)"
   ]
  },
  {
   "cell_type": "code",
   "execution_count": 29,
   "id": "b4984369",
   "metadata": {},
   "outputs": [
    {
     "name": "stdout",
     "output_type": "stream",
     "text": [
      "[ 8.89   8.612 16.365]\n"
     ]
    }
   ],
   "source": [
    "previsao = modelo_arvoredecisao.predict(nova_tabela)\n",
    "print(previsao)"
   ]
  },
  {
   "cell_type": "code",
   "execution_count": null,
   "id": "a01c12a0",
   "metadata": {},
   "outputs": [],
   "source": []
  }
 ],
 "metadata": {
  "kernelspec": {
   "display_name": "Python 3 (ipykernel)",
   "language": "python",
   "name": "python3"
  },
  "language_info": {
   "codemirror_mode": {
    "name": "ipython",
    "version": 3
   },
   "file_extension": ".py",
   "mimetype": "text/x-python",
   "name": "python",
   "nbconvert_exporter": "python",
   "pygments_lexer": "ipython3",
   "version": "3.9.7"
  }
 },
 "nbformat": 4,
 "nbformat_minor": 5
}
