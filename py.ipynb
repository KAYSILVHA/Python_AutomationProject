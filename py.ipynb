{
 "cells": [
  {
   "cell_type": "markdown",
   "id": "f499087a",
   "metadata": {},
   "source": [
    "# Automação Python\n",
    "\n",
    "Descrição:\n",
    "\n",
    "#Passo 1: Entrar no sistema da empresa (no link do drive)\n",
    "\n",
    "#Passo 2: Navegar até o local do relatório (entrar na pasta Exportar)\n",
    "\n",
    "#Passo 3: Exportar o relatório (fazer o download)\n",
    "\n",
    "#Passo 4: Calcular os indicadores (faturamento e quantidade de produtos)\n",
    "\n",
    "#Passo 5: Enviar e-mail para a diretoria"
   ]
  },
  {
   "cell_type": "markdown",
   "id": "15c185cb",
   "metadata": {},
   "source": [
    "# Instalando o PYAUTOGUI"
   ]
  },
  {
   "cell_type": "code",
   "execution_count": 92,
   "id": "7a7f5375",
   "metadata": {},
   "outputs": [
    {
     "name": "stdout",
     "output_type": "stream",
     "text": [
      "Requirement already satisfied: pyautogui in c:\\users\\kaira\\downloads\\anacondaa\\lib\\site-packages (0.9.53)"
     ]
    }
   ],
   "source": [
    "!pip install pyautogui"
   ]
  },
  {
   "cell_type": "markdown",
   "id": "bf03d099",
   "metadata": {},
   "source": [
    "# Iniciando o código \n",
    "\n",
    "Importando bibliotecas e seguindo os passos..."
   ]
  },
  {
   "cell_type": "code",
   "execution_count": 93,
   "id": "a7b9b79c",
   "metadata": {},
   "outputs": [
    {
     "name": "stdout",
     "output_type": "stream",
     "text": [
      "\n",
      "Requirement already satisfied: pymsgbox in c:\\users\\kaira\\downloads\\anacondaa\\lib\\site-packages (from pyautogui) (1.0.9)\n",
      "Requirement already satisfied: pygetwindow>=0.0.5 in c:\\users\\kaira\\downloads\\anacondaa\\lib\\site-packages (from pyautogui) (0.0.9)\n",
      "Requirement already satisfied: pyscreeze>=0.1.21 in c:\\users\\kaira\\downloads\\anacondaa\\lib\\site-packages (from pyautogui) (0.1.28)\n",
      "Requirement already satisfied: mouseinfo in c:\\users\\kaira\\downloads\\anacondaa\\lib\\site-packages (from pyautogui) (0.1.3)\n",
      "Requirement already satisfied: PyTweening>=1.0.1 in c:\\users\\kaira\\downloads\\anacondaa\\lib\\site-packages (from pyautogui) (1.0.4)\n",
      "Requirement already satisfied: pyrect in c:\\users\\kaira\\downloads\\anacondaa\\lib\\site-packages (from pygetwindow>=0.0.5->pyautogui) (0.2.0)\n",
      "Requirement already satisfied: pyperclip in c:\\users\\kaira\\downloads\\anacondaa\\lib\\site-packages (from mouseinfo->pyautogui) (1.8.2)\n"
     ]
    }
   ],
   "source": [
    "import pyautogui\n",
    "import pyperclip\n",
    "import time\n",
    "\n",
    "pyautogui.PAUSE=5\n",
    "\n",
    "#Passo 1: Entrar no sistema da empresa (no link do drive)\n",
    "\n",
    "pyautogui.hotkey(\"ctrl\",\"t\")\n",
    "pyperclip.copy(\"https://drive.google.com/drive/u/0/mobile/folders/149xknr9JvrlEnhNWO49zPcw0PW5icxga?usp=sharing\")\n",
    "pyautogui.hotkey(\"ctrl\",\"v\")\n",
    "pyautogui.press(\"enter\")\n",
    "\n",
    "time.sleep(10)\n",
    "\n",
    "#Passo 2: Navegar até o local do relatório (entrar na pasta Exportar)\n",
    "\n",
    "pyautogui.click(x=400, y=273, clicks=4)\n",
    "time.sleep(10)\n",
    "pyautogui.click(x=400, y=273, clicks=2)\n",
    "time.sleep(10)\n",
    "\n",
    "#Passo 3: Exportar o relatório (fazer o download)\n",
    "\n",
    "pyautogui.click(x=390, y=434)\n",
    "time.sleep(2)\n",
    "pyautogui.click(x=1158, y=166)\n",
    "time.sleep(2)\n",
    "pyautogui.click(x=1032, y=557)\n",
    "time.sleep(10)"
   ]
  },
  {
   "cell_type": "markdown",
   "id": "5fbf02d7",
   "metadata": {},
   "source": [
    "# Calculando os indicadores\n",
    "\n",
    "Busca de dados\n",
    "Formatação da tabela"
   ]
  },
  {
   "cell_type": "code",
   "execution_count": 94,
   "id": "98c427b3",
   "metadata": {},
   "outputs": [
    {
     "data": {
      "text/html": [
       "<div>\n",
       "<style scoped>\n",
       "    .dataframe tbody tr th:only-of-type {\n",
       "        vertical-align: middle;\n",
       "    }\n",
       "\n",
       "    .dataframe tbody tr th {\n",
       "        vertical-align: top;\n",
       "    }\n",
       "\n",
       "    .dataframe thead th {\n",
       "        text-align: right;\n",
       "    }\n",
       "</style>\n",
       "<table border=\"1\" class=\"dataframe\">\n",
       "  <thead>\n",
       "    <tr style=\"text-align: right;\">\n",
       "      <th></th>\n",
       "      <th>Código Venda</th>\n",
       "      <th>Data</th>\n",
       "      <th>ID Loja</th>\n",
       "      <th>Produto</th>\n",
       "      <th>Quantidade</th>\n",
       "      <th>Valor Unitário</th>\n",
       "      <th>Valor Final</th>\n",
       "    </tr>\n",
       "  </thead>\n",
       "  <tbody>\n",
       "    <tr>\n",
       "      <th>0</th>\n",
       "      <td>65014</td>\n",
       "      <td>2019-12-01</td>\n",
       "      <td>Shopping Morumbi</td>\n",
       "      <td>Sunga Listrado</td>\n",
       "      <td>5</td>\n",
       "      <td>114</td>\n",
       "      <td>570</td>\n",
       "    </tr>\n",
       "    <tr>\n",
       "      <th>1</th>\n",
       "      <td>65014</td>\n",
       "      <td>2019-12-01</td>\n",
       "      <td>Shopping Morumbi</td>\n",
       "      <td>Casaco Listrado</td>\n",
       "      <td>1</td>\n",
       "      <td>269</td>\n",
       "      <td>269</td>\n",
       "    </tr>\n",
       "    <tr>\n",
       "      <th>2</th>\n",
       "      <td>65016</td>\n",
       "      <td>2019-12-01</td>\n",
       "      <td>Iguatemi Campinas</td>\n",
       "      <td>Sapato Listrado</td>\n",
       "      <td>2</td>\n",
       "      <td>363</td>\n",
       "      <td>726</td>\n",
       "    </tr>\n",
       "    <tr>\n",
       "      <th>3</th>\n",
       "      <td>65016</td>\n",
       "      <td>2019-12-01</td>\n",
       "      <td>Iguatemi Campinas</td>\n",
       "      <td>Casaco</td>\n",
       "      <td>1</td>\n",
       "      <td>250</td>\n",
       "      <td>250</td>\n",
       "    </tr>\n",
       "    <tr>\n",
       "      <th>4</th>\n",
       "      <td>65017</td>\n",
       "      <td>2019-12-01</td>\n",
       "      <td>Shopping SP Market</td>\n",
       "      <td>Gorro Liso</td>\n",
       "      <td>3</td>\n",
       "      <td>92</td>\n",
       "      <td>276</td>\n",
       "    </tr>\n",
       "    <tr>\n",
       "      <th>...</th>\n",
       "      <td>...</td>\n",
       "      <td>...</td>\n",
       "      <td>...</td>\n",
       "      <td>...</td>\n",
       "      <td>...</td>\n",
       "      <td>...</td>\n",
       "      <td>...</td>\n",
       "    </tr>\n",
       "    <tr>\n",
       "      <th>7084</th>\n",
       "      <td>69996</td>\n",
       "      <td>2019-12-26</td>\n",
       "      <td>Center Shopping Uberlândia</td>\n",
       "      <td>Short Listrado</td>\n",
       "      <td>2</td>\n",
       "      <td>102</td>\n",
       "      <td>204</td>\n",
       "    </tr>\n",
       "    <tr>\n",
       "      <th>7085</th>\n",
       "      <td>69996</td>\n",
       "      <td>2019-12-26</td>\n",
       "      <td>Center Shopping Uberlândia</td>\n",
       "      <td>Mochila</td>\n",
       "      <td>4</td>\n",
       "      <td>270</td>\n",
       "      <td>1080</td>\n",
       "    </tr>\n",
       "    <tr>\n",
       "      <th>7086</th>\n",
       "      <td>69996</td>\n",
       "      <td>2019-12-26</td>\n",
       "      <td>Center Shopping Uberlândia</td>\n",
       "      <td>Pulseira Estampa</td>\n",
       "      <td>1</td>\n",
       "      <td>87</td>\n",
       "      <td>87</td>\n",
       "    </tr>\n",
       "    <tr>\n",
       "      <th>7087</th>\n",
       "      <td>69997</td>\n",
       "      <td>2019-12-26</td>\n",
       "      <td>Ribeirão Shopping</td>\n",
       "      <td>Camisa Listrado</td>\n",
       "      <td>1</td>\n",
       "      <td>108</td>\n",
       "      <td>108</td>\n",
       "    </tr>\n",
       "    <tr>\n",
       "      <th>7088</th>\n",
       "      <td>69997</td>\n",
       "      <td>2019-12-26</td>\n",
       "      <td>Ribeirão Shopping</td>\n",
       "      <td>Short Linho</td>\n",
       "      <td>2</td>\n",
       "      <td>133</td>\n",
       "      <td>266</td>\n",
       "    </tr>\n",
       "  </tbody>\n",
       "</table>\n",
       "<p>7089 rows × 7 columns</p>\n",
       "</div>"
      ],
      "text/plain": [
       "      Código Venda       Data                     ID Loja           Produto  \\\n",
       "0            65014 2019-12-01            Shopping Morumbi    Sunga Listrado   \n",
       "1            65014 2019-12-01            Shopping Morumbi   Casaco Listrado   \n",
       "2            65016 2019-12-01           Iguatemi Campinas   Sapato Listrado   \n",
       "3            65016 2019-12-01           Iguatemi Campinas            Casaco   \n",
       "4            65017 2019-12-01          Shopping SP Market        Gorro Liso   \n",
       "...            ...        ...                         ...               ...   \n",
       "7084         69996 2019-12-26  Center Shopping Uberlândia    Short Listrado   \n",
       "7085         69996 2019-12-26  Center Shopping Uberlândia           Mochila   \n",
       "7086         69996 2019-12-26  Center Shopping Uberlândia  Pulseira Estampa   \n",
       "7087         69997 2019-12-26           Ribeirão Shopping   Camisa Listrado   \n",
       "7088         69997 2019-12-26           Ribeirão Shopping       Short Linho   \n",
       "\n",
       "      Quantidade  Valor Unitário  Valor Final  \n",
       "0              5             114          570  \n",
       "1              1             269          269  \n",
       "2              2             363          726  \n",
       "3              1             250          250  \n",
       "4              3              92          276  \n",
       "...          ...             ...          ...  \n",
       "7084           2             102          204  \n",
       "7085           4             270         1080  \n",
       "7086           1              87           87  \n",
       "7087           1             108          108  \n",
       "7088           2             133          266  \n",
       "\n",
       "[7089 rows x 7 columns]"
      ]
     },
     "metadata": {},
     "output_type": "display_data"
    },
    {
     "name": "stdout",
     "output_type": "stream",
     "text": [
      "2917311\n",
      "15227\n"
     ]
    }
   ],
   "source": [
    "#Passo 4: Calcular os indicadores (faturamento e quantidade de produtos)\n",
    "import pandas as pd\n",
    "\n",
    "tabela = pd.read_excel(r\"C:\\Users\\KAIRA\\Downloads\\Vendas - Dez.xlsx\")\n",
    "display(tabela)\n",
    "\n",
    "faturamento = tabela[\"Valor Final\"].sum()\n",
    "quantidade = tabela[\"Quantidade\"].sum()\n",
    "print(faturamento)\n",
    "print(quantidade)"
   ]
  },
  {
   "cell_type": "markdown",
   "id": "5bbfd187",
   "metadata": {},
   "source": [
    "# Vamos enviar um e-mail agora"
   ]
  },
  {
   "cell_type": "code",
   "execution_count": 95,
   "id": "964b6799",
   "metadata": {},
   "outputs": [],
   "source": [
    "#Passo 5: Enviar e-mail para a diretoria\n",
    "    \n",
    "    # abrir aba e entrar no e-mail\n",
    "pyautogui.hotkey(\"ctrl\",\"t\")\n",
    "pyperclip.copy(\"https://mail.google.com/mail/u/0/\")\n",
    "pyautogui.hotkey(\"ctrl\",\"v\")\n",
    "pyautogui.press(\"enter\")\n",
    "time.sleep(20)\n",
    "    \n",
    "    # clicar no botão escrever\n",
    "pyautogui.click(x=103, y=154)\n",
    "time.sleep(15)\n",
    "\n",
    "    # preencher as informações do e-mail\n",
    "        #destinatário\n",
    "pyautogui.write(\"kaysilvha@gmail.com\")\n",
    "time.sleep(5)\n",
    "pyautogui.hotkey(\"tab\")\n",
    "pyautogui.hotkey(\"tab\")\n",
    "\n",
    "        #assunto\n",
    "pyperclip.copy(\"RELATÓRIO DE VENDAS\")\n",
    "pyautogui.hotkey(\"ctrl\",\"v\")\n",
    "pyautogui.hotkey(\"tab\")\n",
    "\n",
    "     #corpo\n",
    "texto=f\"\"\"\n",
    "Prezados, bom dia!\n",
    "\n",
    "O faturamento de ontem foi de:R${faturamento:,.2f}\n",
    "A quantidade de produtos foi de:{quantidade:,}\n",
    "\n",
    "Abs\n",
    "Kay Silva;)\"\"\"\n",
    "\n",
    "pyperclip.copy(texto)\n",
    "pyautogui.hotkey(\"ctrl\",\"v\")\n",
    "\n",
    "    #enviar e-mail\n",
    "pyautogui.hotkey(\"ctrl\",\"enter\")\n",
    "\n",
    "\n",
    "    "
   ]
  },
  {
   "cell_type": "markdown",
   "id": "9ef9547c",
   "metadata": {},
   "source": [
    "# Use para descobrir a posição na tela"
   ]
  },
  {
   "cell_type": "code",
   "execution_count": 96,
   "id": "6ba34814",
   "metadata": {},
   "outputs": [
    {
     "data": {
      "text/plain": [
       "Point(x=581, y=563)"
      ]
     },
     "execution_count": 96,
     "metadata": {},
     "output_type": "execute_result"
    }
   ],
   "source": [
    "import time\n",
    "time.sleep(10)\n",
    "pyautogui.position()"
   ]
  },
  {
   "cell_type": "markdown",
   "id": "952073ca",
   "metadata": {},
   "source": [
    "# Anotações\n",
    "\n",
    "Sempre colocar um r antes do caminho da tabela\n",
    "\n",
    "Instalar uma biblioteca é só uma vez\n",
    "\n",
    "Imortar uma biblioteca é sempre"
   ]
  }
 ],
 "metadata": {
  "kernelspec": {
   "display_name": "Python 3 (ipykernel)",
   "language": "python",
   "name": "python3"
  },
  "language_info": {
   "codemirror_mode": {
    "name": "ipython",
    "version": 3
   },
   "file_extension": ".py",
   "mimetype": "text/x-python",
   "name": "python",
   "nbconvert_exporter": "python",
   "pygments_lexer": "ipython3",
   "version": "3.9.7"
  }
 },
 "nbformat": 4,
 "nbformat_minor": 5
}
