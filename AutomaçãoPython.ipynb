{
 "cells": [
  {
   "cell_type": "markdown",
   "id": "f499087a",
   "metadata": {},
   "source": [
    "# Automação Python\n",
    "\n",
    "Descrição:\n",
    "\n",
    "#Passo 1: Entrar no sistema da empresa (no link do drive)\n",
    "\n",
    "#Passo 2: Navegar até o local do relatório (entrar na pasta Exportar)\n",
    "\n",
    "#Passo 3: Exportar o relatório (fazer o download)\n",
    "\n",
    "#Passo 4: Calcular os indicadores (faturamento e quantidade de produtos)\n",
    "\n",
    "#Passo 5: Enviar e-mail para a diretoria"
   ]
  },
  {
   "cell_type": "markdown",
   "id": "15c185cb",
   "metadata": {},
   "source": [
    "# Instalando o PYAUTOGUI"
   ]
  },
  {
   "cell_type": "code",
   "execution_count": 20,
   "id": "7a7f5375",
   "metadata": {},
   "outputs": [
    {
     "name": "stdout",
     "output_type": "stream",
     "text": [
      "Requirement already satisfied: pyautogui in c:\\users\\kaira\\downloads\\anacondaa\\lib\\site-packages (0.9.53)\n",
      "Requirement already satisfied: mouseinfo in c:\\users\\kaira\\downloads\\anacondaa\\lib\\site-packages (from pyautogui) (0.1.3)\n",
      "Requirement already satisfied: pymsgbox in c:\\users\\kaira\\downloads\\anacondaa\\lib\\site-packages (from pyautogui) (1.0.9)\n",
      "Requirement already satisfied: PyTweening>=1.0.1 in c:\\users\\kaira\\downloads\\anacondaa\\lib\\site-packages (from pyautogui) (1.0.4)\n",
      "Requirement already satisfied: pygetwindow>=0.0.5 in c:\\users\\kaira\\downloads\\anacondaa\\lib\\site-packages (from pyautogui) (0.0.9)\n",
      "Requirement already satisfied: pyscreeze>=0.1.21 in c:\\users\\kaira\\downloads\\anacondaa\\lib\\site-packages (from pyautogui) (0.1.28)\n",
      "Requirement already satisfied: pyrect in c:\\users\\kaira\\downloads\\anacondaa\\lib\\site-packages (from pygetwindow>=0.0.5->pyautogui) (0.2.0)\n",
      "Requirement already satisfied: pyperclip in c:\\users\\kaira\\downloads\\anacondaa\\lib\\site-packages (from mouseinfo->pyautogui) (1.8.2)\n"
     ]
    }
   ],
   "source": [
    "!pip install pyautogui"
   ]
  },
  {
   "cell_type": "markdown",
   "id": "bf03d099",
   "metadata": {},
   "source": [
    "# Iniciando o código \n",
    "\n",
    "Importando bibliotecas e seguindo os passos..."
   ]
  },
  {
   "cell_type": "code",
   "execution_count": null,
   "id": "a7b9b79c",
   "metadata": {},
   "outputs": [],
   "source": [
    "import pyautogui\n",
    "import pyperclip\n",
    "import time\n",
    "\n",
    "pyautogui.PAUSE=5\n",
    "\n",
    "#Passo 1: Entrar no sistema da empresa (no link do drive)\n",
    "\n",
    "pyautogui.hotkey(\"ctrl\",\"t\")\n",
    "pyperclip.copy(\"https://drive.google.com/drive/u/0/mobile/folders/149xknr9JvrlEnhNWO49zPcw0PW5icxga?usp=sharing\")\n",
    "pyautogui.hotkey(\"ctrl\",\"v\")\n",
    "pyautogui.press(\"enter\")\n",
    "\n",
    "time.sleep(10)\n",
    "\n",
    "#Passo 2: Navegar até o local do relatório (entrar na pasta Exportar)\n",
    "\n",
    "pyautogui.click(x=400, y=273, clicks=4)\n",
    "time.sleep(10)\n",
    "pyautogui.click(x=400, y=273, clicks=2)\n",
    "time.sleep(10)\n",
    "\n",
    "#Passo 3: Exportar o relatório (fazer o download)\n",
    "\n",
    "pyautogui.click(x=390, y=434)\n",
    "time.sleep(2)\n",
    "pyautogui.click(x=1158, y=166)\n",
    "time.sleep(2)\n",
    "pyautogui.click(x=1032, y=557)\n",
    "time.sleep(10)"
   ]
  },
  {
   "cell_type": "markdown",
   "id": "5fbf02d7",
   "metadata": {},
   "source": [
    "# Calculando os indicadores\n",
    "\n",
    "Busca de dados\n",
    "Formatação da tabela"
   ]
  },
  {
   "cell_type": "code",
   "execution_count": 27,
   "id": "98c427b3",
   "metadata": {},
   "outputs": [
    {
     "name": "stdout",
     "output_type": "stream",
     "text": [
      "Requirement already satisfied: pandas in c:\\users\\kaira\\downloads\\anacondaa\\lib\\site-packages (1.3.4)\n",
      "Requirement already satisfied: numpy>=1.17.3 in c:\\users\\kaira\\downloads\\anacondaa\\lib\\site-packages (from pandas) (1.20.3)\n",
      "Requirement already satisfied: pytz>=2017.3 in c:\\users\\kaira\\downloads\\anacondaa\\lib\\site-packages (from pandas) (2021.3)\n",
      "Requirement already satisfied: python-dateutil>=2.7.3 in c:\\users\\kaira\\downloads\\anacondaa\\lib\\site-packages (from pandas) (2.8.2)\n",
      "Requirement already satisfied: six>=1.5 in c:\\users\\kaira\\downloads\\anacondaa\\lib\\site-packages (from python-dateutil>=2.7.3->pandas) (1.16.0)\n"
     ]
    }
   ],
   "source": [
    "#Passo 4: Calcular os indicadores (faturamento e quantidade de produtos)"
   ]
  },
  {
   "cell_type": "code",
   "execution_count": null,
   "id": "c609edd9",
   "metadata": {},
   "outputs": [],
   "source": [
    "import pandas as pd\n",
    "\n",
    "tabela = pandas.read_excel(r\"C:\\Users\\KAIRA\\Downloads\\Vendas - Dez.xlsx\")\n",
    "display(tabela)\n",
    "\n",
    "faturamento = tabela[\"Valor Final\"].sum()\n",
    "quantidade = tabela[\"Quantidade\"].sum()\n",
    "print(faturamento)\n",
    "print(quantidade)\n"
   ]
  },
  {
   "cell_type": "markdown",
   "id": "5bbfd187",
   "metadata": {},
   "source": [
    "# Vamos enviar um e-mail agora"
   ]
  },
  {
   "cell_type": "code",
   "execution_count": null,
   "id": "964b6799",
   "metadata": {},
   "outputs": [],
   "source": [
    "#Passo 5: Enviar e-mail para a diretoria\n",
    "    \n",
    "    # abrir aba e entrar no e-mail\n",
    "pyautogui.hotkey(\"ctrl\",\"t\")\n",
    "pyperclip.copy(\"https://mail.google.com/mail/u/0/\")\n",
    "pyautogui.hotkey(\"ctrl\",\"v\")\n",
    "pyautogui.press(\"enter\")\n",
    "time.sleep(20)\n",
    "    \n",
    "    # clicar no botão escrever\n",
    "pyautogui.click(x=103, y=154)\n",
    "time.sleep(15)\n",
    "\n",
    "    # preencher as informações do e-mail\n",
    "        #destinatário\n",
    "pyautogui.write(\"kaysilvha@gmail.com\")\n",
    "time.sleep(5)\n",
    "pyautogui.hotkey(\"tab\")\n",
    "pyautogui.hotkey(\"tab\")\n",
    "\n",
    "        #assunto\n",
    "pyperclip.copy(\"RELATÓRIO DE VENDAS\")\n",
    "pyautogui.hotkey(\"ctrl\",\"v\")\n",
    "pyautogui.hotkey(\"tab\")\n",
    "\n",
    "     #corpo\n",
    "texto=f\"\"\"\n",
    "Prezados, bom dia!\n",
    "\n",
    "O faturamento de ontem foi de:R${faturamento:,.2f}\n",
    "A quantidade de produtos foi de:{quantidade:,}\n",
    "\n",
    "Abs\n",
    "Kay Silva;)\"\"\"\n",
    "\n",
    "pyperclip.copy(texto)\n",
    "pyautogui.hotkey(\"ctrl\",\"v\")\n",
    "\n",
    "    #enviar e-mail\n",
    "pyautogui.hotkey(\"ctrl\",\"enter\")\n",
    "\n",
    "\n",
    "    "
   ]
  },
  {
   "cell_type": "markdown",
   "id": "9ef9547c",
   "metadata": {},
   "source": [
    "# Use para descobrir a posição na tela"
   ]
  },
  {
   "cell_type": "code",
   "execution_count": null,
   "id": "6ba34814",
   "metadata": {},
   "outputs": [],
   "source": [
    "import time\n",
    "time.sleep(10)\n",
    "pyautogui.position()"
   ]
  },
  {
   "cell_type": "markdown",
   "id": "952073ca",
   "metadata": {},
   "source": [
    "# Anotações\n",
    "\n",
    "Sempre colocar um r antes do caminho da tabela\n",
    "\n",
    "Instalar uma biblioteca é só uma vez\n",
    "\n",
    "Imortar uma biblioteca é sempre"
   ]
  }
 ],
 "metadata": {
  "kernelspec": {
   "display_name": "Python 3 (ipykernel)",
   "language": "python",
   "name": "python3"
  },
  "language_info": {
   "codemirror_mode": {
    "name": "ipython",
    "version": 3
   },
   "file_extension": ".py",
   "mimetype": "text/x-python",
   "name": "python",
   "nbconvert_exporter": "python",
   "pygments_lexer": "ipython3",
   "version": "3.9.7"
  }
 },
 "nbformat": 4,
 "nbformat_minor": 5
}
